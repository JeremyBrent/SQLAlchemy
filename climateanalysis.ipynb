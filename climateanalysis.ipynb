{
 "cells": [
  {
   "cell_type": "code",
   "execution_count": 1,
   "metadata": {
    "ExecuteTime": {
     "end_time": "2020-05-10T02:26:08.344344Z",
     "start_time": "2020-05-10T02:26:07.980033Z"
    }
   },
   "outputs": [],
   "source": [
    "%matplotlib inline\n",
    "from matplotlib import style\n",
    "style.use('fivethirtyeight')\n",
    "import matplotlib.pyplot as plt"
   ]
  },
  {
   "cell_type": "code",
   "execution_count": 2,
   "metadata": {
    "ExecuteTime": {
     "end_time": "2020-05-10T02:26:08.552434Z",
     "start_time": "2020-05-10T02:26:08.345849Z"
    }
   },
   "outputs": [],
   "source": [
    "import numpy as np\n",
    "import pandas as pd\n",
    "import matplotlib.dates as mdates"
   ]
  },
  {
   "cell_type": "code",
   "execution_count": 3,
   "metadata": {
    "ExecuteTime": {
     "end_time": "2020-05-10T02:26:08.595489Z",
     "start_time": "2020-05-10T02:26:08.554772Z"
    }
   },
   "outputs": [],
   "source": [
    "import datetime as dt\n",
    "import gmaps \n",
    "from config import gkey"
   ]
  },
  {
   "cell_type": "code",
   "execution_count": 4,
   "metadata": {
    "ExecuteTime": {
     "end_time": "2020-05-10T02:26:08.738615Z",
     "start_time": "2020-05-10T02:26:08.597616Z"
    }
   },
   "outputs": [],
   "source": [
    "# Python SQL toolkit and Object Relational Mapper\n",
    "import sqlalchemy\n",
    "from sqlalchemy.ext.automap import automap_base\n",
    "from sqlalchemy.orm import Session\n",
    "from sqlalchemy import create_engine, func"
   ]
  },
  {
   "cell_type": "code",
   "execution_count": 5,
   "metadata": {
    "ExecuteTime": {
     "end_time": "2020-05-10T02:26:08.747823Z",
     "start_time": "2020-05-10T02:26:08.740093Z"
    }
   },
   "outputs": [],
   "source": [
    "engine = create_engine(\"sqlite:///Resources/hawaii.sqlite\")\n"
   ]
  },
  {
   "cell_type": "code",
   "execution_count": 6,
   "metadata": {
    "ExecuteTime": {
     "end_time": "2020-05-10T02:26:08.763607Z",
     "start_time": "2020-05-10T02:26:08.749248Z"
    }
   },
   "outputs": [],
   "source": [
    "# reflect an existing database into a new model\n",
    "Base = automap_base()\n",
    "Base.prepare(engine,reflect=True)\n"
   ]
  },
  {
   "cell_type": "markdown",
   "metadata": {},
   "source": [
    "# Database exploration"
   ]
  },
  {
   "cell_type": "code",
   "execution_count": 7,
   "metadata": {
    "ExecuteTime": {
     "end_time": "2020-05-10T02:26:08.769184Z",
     "start_time": "2020-05-10T02:26:08.765283Z"
    }
   },
   "outputs": [
    {
     "data": {
      "text/plain": [
       "['measurement', 'station']"
      ]
     },
     "execution_count": 7,
     "metadata": {},
     "output_type": "execute_result"
    }
   ],
   "source": [
    "# We can view all of the classes that automap found\n",
    "Base.classes.keys()"
   ]
  },
  {
   "cell_type": "code",
   "execution_count": 8,
   "metadata": {
    "ExecuteTime": {
     "end_time": "2020-05-10T02:26:08.774991Z",
     "start_time": "2020-05-10T02:26:08.772491Z"
    }
   },
   "outputs": [],
   "source": [
    "# Save references to each table\n",
    "measurements = Base.classes.measurement\n",
    "stations = Base.classes.station"
   ]
  },
  {
   "cell_type": "code",
   "execution_count": 9,
   "metadata": {
    "ExecuteTime": {
     "end_time": "2020-05-10T02:26:08.779999Z",
     "start_time": "2020-05-10T02:26:08.777386Z"
    }
   },
   "outputs": [],
   "source": [
    "# Create our session (link) from Python to the DB\n",
    "session = Session(engine)\n"
   ]
  },
  {
   "cell_type": "code",
   "execution_count": 10,
   "metadata": {
    "ExecuteTime": {
     "end_time": "2020-05-10T02:26:08.784038Z",
     "start_time": "2020-05-10T02:26:08.781463Z"
    }
   },
   "outputs": [
    {
     "name": "stdout",
     "output_type": "stream",
     "text": [
      "Measurement table columns: ['id', 'station', 'date', 'prcp', 'tobs']\n",
      "Station table columns: ['id', 'station', 'name', 'latitude', 'longitude', 'elevation']\n"
     ]
    }
   ],
   "source": [
    "#Measurement and Station table columns\n",
    "print(f'Measurement table columns: {measurements.__table__.columns.keys()}')\n",
    "print(f'Station table columns: {stations.__table__.columns.keys()}')\n"
   ]
  },
  {
   "cell_type": "code",
   "execution_count": 11,
   "metadata": {
    "ExecuteTime": {
     "end_time": "2020-05-10T02:26:08.796471Z",
     "start_time": "2020-05-10T02:26:08.785328Z"
    }
   },
   "outputs": [
    {
     "name": "stdout",
     "output_type": "stream",
     "text": [
      "Measurment table's most recent date: 2017-08-23\n",
      "Measurment table's oldest date: 2010-01-01\n",
      "The Measurement table has 19550 records.\n"
     ]
    }
   ],
   "source": [
    "# Measurement table exploration\n",
    "maxdate = session.query(func.max(measurements.date))[0][0]\n",
    "mindate = session.query(func.min(measurements.date))[0][0]\n",
    "databaselength = session.query(func.count(measurements.date))[0][0]\n",
    "\n",
    "\n",
    "print(f\"Measurment table's most recent date: {maxdate}\")\n",
    "print(f\"Measurment table's oldest date: {mindate}\")\n",
    "print(f\"The Measurement table has {databaselength} records.\")"
   ]
  },
  {
   "cell_type": "markdown",
   "metadata": {},
   "source": [
    "# Precipitation Analysis"
   ]
  },
  {
   "cell_type": "code",
   "execution_count": 12,
   "metadata": {
    "ExecuteTime": {
     "end_time": "2020-05-10T02:26:08.801683Z",
     "start_time": "2020-05-10T02:26:08.798724Z"
    }
   },
   "outputs": [],
   "source": [
    "# Casting the year, month, and day into integers \n",
    "# to be used in the query date variable\n",
    "year = int(maxdate[:4])\n",
    "month = int(maxdate[5:7])\n",
    "day = int(maxdate[8:10])\n"
   ]
  },
  {
   "cell_type": "code",
   "execution_count": 13,
   "metadata": {
    "ExecuteTime": {
     "end_time": "2020-05-10T02:26:08.843732Z",
     "start_time": "2020-05-10T02:26:08.803976Z"
    },
    "tags": [
     "outputPrepend"
    ]
   },
   "outputs": [
    {
     "data": {
      "text/html": [
       "<div>\n",
       "<style scoped>\n",
       "    .dataframe tbody tr th:only-of-type {\n",
       "        vertical-align: middle;\n",
       "    }\n",
       "\n",
       "    .dataframe tbody tr th {\n",
       "        vertical-align: top;\n",
       "    }\n",
       "\n",
       "    .dataframe thead th {\n",
       "        text-align: right;\n",
       "    }\n",
       "</style>\n",
       "<table border=\"1\" class=\"dataframe\">\n",
       "  <thead>\n",
       "    <tr style=\"text-align: right;\">\n",
       "      <th></th>\n",
       "      <th>date</th>\n",
       "      <th>precipitation</th>\n",
       "    </tr>\n",
       "  </thead>\n",
       "  <tbody>\n",
       "    <tr>\n",
       "      <th>0</th>\n",
       "      <td>2016-08-23</td>\n",
       "      <td>1.79</td>\n",
       "    </tr>\n",
       "    <tr>\n",
       "      <th>1</th>\n",
       "      <td>2016-08-24</td>\n",
       "      <td>2.15</td>\n",
       "    </tr>\n",
       "    <tr>\n",
       "      <th>2</th>\n",
       "      <td>2016-08-25</td>\n",
       "      <td>0.06</td>\n",
       "    </tr>\n",
       "    <tr>\n",
       "      <th>3</th>\n",
       "      <td>2016-08-26</td>\n",
       "      <td>0.01</td>\n",
       "    </tr>\n",
       "    <tr>\n",
       "      <th>4</th>\n",
       "      <td>2016-08-27</td>\n",
       "      <td>0.12</td>\n",
       "    </tr>\n",
       "    <tr>\n",
       "      <th>...</th>\n",
       "      <td>...</td>\n",
       "      <td>...</td>\n",
       "    </tr>\n",
       "    <tr>\n",
       "      <th>347</th>\n",
       "      <td>2017-08-14</td>\n",
       "      <td>0.00</td>\n",
       "    </tr>\n",
       "    <tr>\n",
       "      <th>348</th>\n",
       "      <td>2017-08-15</td>\n",
       "      <td>0.32</td>\n",
       "    </tr>\n",
       "    <tr>\n",
       "      <th>349</th>\n",
       "      <td>2017-08-16</td>\n",
       "      <td>0.12</td>\n",
       "    </tr>\n",
       "    <tr>\n",
       "      <th>350</th>\n",
       "      <td>2017-08-17</td>\n",
       "      <td>0.01</td>\n",
       "    </tr>\n",
       "    <tr>\n",
       "      <th>351</th>\n",
       "      <td>2017-08-18</td>\n",
       "      <td>0.06</td>\n",
       "    </tr>\n",
       "  </tbody>\n",
       "</table>\n",
       "<p>352 rows × 2 columns</p>\n",
       "</div>"
      ],
      "text/plain": [
       "          date  precipitation\n",
       "0   2016-08-23           1.79\n",
       "1   2016-08-24           2.15\n",
       "2   2016-08-25           0.06\n",
       "3   2016-08-26           0.01\n",
       "4   2016-08-27           0.12\n",
       "..         ...            ...\n",
       "347 2017-08-14           0.00\n",
       "348 2017-08-15           0.32\n",
       "349 2017-08-16           0.12\n",
       "350 2017-08-17           0.01\n",
       "351 2017-08-18           0.06\n",
       "\n",
       "[352 rows x 2 columns]"
      ]
     },
     "execution_count": 13,
     "metadata": {},
     "output_type": "execute_result"
    }
   ],
   "source": [
    "# Calculate the date 1 year ago from the last data point in the database\n",
    "query_date = dt.date(year,month,day) - dt.timedelta(days=365)\n",
    "prcp_at_station = \"USC00519281\"\n",
    "\n",
    "# Design a query to retrieve the last 12 months of precipitation data\n",
    "last12months = session.query(measurements.date,measurements.prcp).\\\n",
    "    filter(measurements.date >= query_date).\\\n",
    "    filter(measurements.station == prcp_at_station).all()\n",
    "\n",
    "# Save the query results as a Pandas DataFrame,sort the df by date and set the index to the date column\n",
    "df = pd.DataFrame(last12months).sort_values('date')\n",
    "df = df.rename(columns={'prcp':'precipitation'})\n",
    "df['date'] = pd.to_datetime(df.date)\n",
    "\n",
    "x = df.date\n",
    "y = df.precipitation\n",
    "\n",
    "\n",
    "\n",
    "\n",
    "## ATTN NOTE ##\n",
    "# This dataframe contains the precipitation data and dates for the specified station.\n",
    "# In terms of the whole dataset, the end-date is 8-23-2017. However, not every station\n",
    "# contains precipitation data to the actual end date. Therefore, the end date for this station\n",
    "# 8-18-2017 and the df contains 352 records of data. That being said, I decided \n",
    "# that I wanted to visualize precipitation over the last year for each individual station, \n",
    "# not an average precipitation across all stations. In order to obtain a dataframe with the \n",
    "# actual last date, the following commented steps would need to be taken. \n",
    "\n",
    "last12monthsall = session.query(measurements.date,measurements.prcp).\\\n",
    "    filter(measurements.date >= query_date).all()\n",
    "last12monthsall_df = pd.DataFrame(last12monthsall,columns=[\"date\", \"avg_precipitation\"])\n",
    "\n",
    "# displaying df of precipitation data for last 12 months from station denoted above\n",
    "df\n"
   ]
  },
  {
   "cell_type": "code",
   "execution_count": 14,
   "metadata": {
    "ExecuteTime": {
     "end_time": "2020-05-10T02:26:10.010958Z",
     "start_time": "2020-05-10T02:26:08.845921Z"
    }
   },
   "outputs": [
    {
     "data": {
      "image/png": "[encoded data removed]",
      "text/plain": [
       "<Figure size 2160x720 with 1 Axes>"
      ]
     },
     "metadata": {},
     "output_type": "display_data"
    }
   ],
   "source": [
    "# Plotting last 12 months of precipitation data for the chosen station\n",
    "fig = plt.figure(figsize=(30,10))\n",
    "ax = plt.subplot(111)\n",
    "ax.bar(x,y,width=1,edgecolor = 'black')\n",
    "plt.gca().xaxis.set_major_formatter(mdates.DateFormatter('%Y-%m-%d'))\n",
    "plt.gca().xaxis.set_major_locator(mdates.DayLocator(interval=5))\n",
    "plt.xticks(rotation=90)\n",
    "plt.xlabel(\"Date\")\n",
    "plt.ylabel(\"Precipitation\")\n",
    "plt.title(f\"Precipation data at station {prcp_at_station}\")\n",
    "plt.xlim(pd.to_datetime(\"2016-08-21\"),pd.to_datetime(\"2017-08-21\"))\n",
    "\n",
    "plt.show()\n"
   ]
  },
  {
   "cell_type": "code",
   "execution_count": 15,
   "metadata": {
    "ExecuteTime": {
     "end_time": "2020-05-10T02:26:10.068584Z",
     "start_time": "2020-05-10T02:26:10.012408Z"
    }
   },
   "outputs": [
    {
     "data": {
      "text/html": [
       "<div>\n",
       "<style scoped>\n",
       "    .dataframe tbody tr th:only-of-type {\n",
       "        vertical-align: middle;\n",
       "    }\n",
       "\n",
       "    .dataframe tbody tr th {\n",
       "        vertical-align: top;\n",
       "    }\n",
       "\n",
       "    .dataframe thead th {\n",
       "        text-align: right;\n",
       "    }\n",
       "</style>\n",
       "<table border=\"1\" class=\"dataframe\">\n",
       "  <thead>\n",
       "    <tr style=\"text-align: right;\">\n",
       "      <th></th>\n",
       "      <th>date</th>\n",
       "      <th>Precipitation</th>\n",
       "      <th>bins</th>\n",
       "      <th>left</th>\n",
       "      <th>right</th>\n",
       "      <th>interval</th>\n",
       "    </tr>\n",
       "  </thead>\n",
       "  <tbody>\n",
       "    <tr>\n",
       "      <th>0</th>\n",
       "      <td>2016-08-23</td>\n",
       "      <td>1.79</td>\n",
       "      <td>(2016-08-22 15:21:36, 2016-09-10]</td>\n",
       "      <td>2016-08-22</td>\n",
       "      <td>2016-09-10</td>\n",
       "      <td>2016-08-22 to 2016-09-10</td>\n",
       "    </tr>\n",
       "    <tr>\n",
       "      <th>1</th>\n",
       "      <td>2016-08-24</td>\n",
       "      <td>2.15</td>\n",
       "      <td>(2016-08-22 15:21:36, 2016-09-10]</td>\n",
       "      <td>2016-08-22</td>\n",
       "      <td>2016-09-10</td>\n",
       "      <td>2016-08-22 to 2016-09-10</td>\n",
       "    </tr>\n",
       "    <tr>\n",
       "      <th>2</th>\n",
       "      <td>2016-08-25</td>\n",
       "      <td>0.06</td>\n",
       "      <td>(2016-08-22 15:21:36, 2016-09-10]</td>\n",
       "      <td>2016-08-22</td>\n",
       "      <td>2016-09-10</td>\n",
       "      <td>2016-08-22 to 2016-09-10</td>\n",
       "    </tr>\n",
       "    <tr>\n",
       "      <th>3</th>\n",
       "      <td>2016-08-26</td>\n",
       "      <td>0.01</td>\n",
       "      <td>(2016-08-22 15:21:36, 2016-09-10]</td>\n",
       "      <td>2016-08-22</td>\n",
       "      <td>2016-09-10</td>\n",
       "      <td>2016-08-22 to 2016-09-10</td>\n",
       "    </tr>\n",
       "    <tr>\n",
       "      <th>4</th>\n",
       "      <td>2016-08-27</td>\n",
       "      <td>0.12</td>\n",
       "      <td>(2016-08-22 15:21:36, 2016-09-10]</td>\n",
       "      <td>2016-08-22</td>\n",
       "      <td>2016-09-10</td>\n",
       "      <td>2016-08-22 to 2016-09-10</td>\n",
       "    </tr>\n",
       "    <tr>\n",
       "      <th>...</th>\n",
       "      <td>...</td>\n",
       "      <td>...</td>\n",
       "      <td>...</td>\n",
       "      <td>...</td>\n",
       "      <td>...</td>\n",
       "      <td>...</td>\n",
       "    </tr>\n",
       "    <tr>\n",
       "      <th>347</th>\n",
       "      <td>2017-08-14</td>\n",
       "      <td>0.00</td>\n",
       "      <td>(2017-07-31, 2017-08-18]</td>\n",
       "      <td>2017-07-31</td>\n",
       "      <td>2017-08-18</td>\n",
       "      <td>2017-07-31 to 2017-08-18</td>\n",
       "    </tr>\n",
       "    <tr>\n",
       "      <th>348</th>\n",
       "      <td>2017-08-15</td>\n",
       "      <td>0.32</td>\n",
       "      <td>(2017-07-31, 2017-08-18]</td>\n",
       "      <td>2017-07-31</td>\n",
       "      <td>2017-08-18</td>\n",
       "      <td>2017-07-31 to 2017-08-18</td>\n",
       "    </tr>\n",
       "    <tr>\n",
       "      <th>349</th>\n",
       "      <td>2017-08-16</td>\n",
       "      <td>0.12</td>\n",
       "      <td>(2017-07-31, 2017-08-18]</td>\n",
       "      <td>2017-07-31</td>\n",
       "      <td>2017-08-18</td>\n",
       "      <td>2017-07-31 to 2017-08-18</td>\n",
       "    </tr>\n",
       "    <tr>\n",
       "      <th>350</th>\n",
       "      <td>2017-08-17</td>\n",
       "      <td>0.01</td>\n",
       "      <td>(2017-07-31, 2017-08-18]</td>\n",
       "      <td>2017-07-31</td>\n",
       "      <td>2017-08-18</td>\n",
       "      <td>2017-07-31 to 2017-08-18</td>\n",
       "    </tr>\n",
       "    <tr>\n",
       "      <th>351</th>\n",
       "      <td>2017-08-18</td>\n",
       "      <td>0.06</td>\n",
       "      <td>(2017-07-31, 2017-08-18]</td>\n",
       "      <td>2017-07-31</td>\n",
       "      <td>2017-08-18</td>\n",
       "      <td>2017-07-31 to 2017-08-18</td>\n",
       "    </tr>\n",
       "  </tbody>\n",
       "</table>\n",
       "<p>352 rows × 6 columns</p>\n",
       "</div>"
      ],
      "text/plain": [
       "          date  Precipitation                               bins        left  \\\n",
       "0   2016-08-23           1.79  (2016-08-22 15:21:36, 2016-09-10]  2016-08-22   \n",
       "1   2016-08-24           2.15  (2016-08-22 15:21:36, 2016-09-10]  2016-08-22   \n",
       "2   2016-08-25           0.06  (2016-08-22 15:21:36, 2016-09-10]  2016-08-22   \n",
       "3   2016-08-26           0.01  (2016-08-22 15:21:36, 2016-09-10]  2016-08-22   \n",
       "4   2016-08-27           0.12  (2016-08-22 15:21:36, 2016-09-10]  2016-08-22   \n",
       "..         ...            ...                                ...         ...   \n",
       "347 2017-08-14           0.00           (2017-07-31, 2017-08-18]  2017-07-31   \n",
       "348 2017-08-15           0.32           (2017-07-31, 2017-08-18]  2017-07-31   \n",
       "349 2017-08-16           0.12           (2017-07-31, 2017-08-18]  2017-07-31   \n",
       "350 2017-08-17           0.01           (2017-07-31, 2017-08-18]  2017-07-31   \n",
       "351 2017-08-18           0.06           (2017-07-31, 2017-08-18]  2017-07-31   \n",
       "\n",
       "          right                  interval  \n",
       "0    2016-09-10  2016-08-22 to 2016-09-10  \n",
       "1    2016-09-10  2016-08-22 to 2016-09-10  \n",
       "2    2016-09-10  2016-08-22 to 2016-09-10  \n",
       "3    2016-09-10  2016-08-22 to 2016-09-10  \n",
       "4    2016-09-10  2016-08-22 to 2016-09-10  \n",
       "..          ...                       ...  \n",
       "347  2017-08-18  2017-07-31 to 2017-08-18  \n",
       "348  2017-08-18  2017-07-31 to 2017-08-18  \n",
       "349  2017-08-18  2017-07-31 to 2017-08-18  \n",
       "350  2017-08-18  2017-07-31 to 2017-08-18  \n",
       "351  2017-08-18  2017-07-31 to 2017-08-18  \n",
       "\n",
       "[352 rows x 6 columns]"
      ]
     },
     "execution_count": 15,
     "metadata": {},
     "output_type": "execute_result"
    }
   ],
   "source": [
    "# Creating bins to better visualize the 12 months of precipitation data\n",
    "bins = pd.cut(x,20)\n",
    "\n",
    "dfbins = pd.DataFrame({\"date\":x,\"Precipitation\":y,\"bins\":bins})\n",
    "\n",
    "dfbins[\"left\"] = [x.left.strftime('%Y-%m-%d') for x in dfbins[\"bins\"]]\n",
    "\n",
    "\n",
    "dfbins[\"right\"] = [x.right.strftime('%Y-%m-%d') for x in dfbins[\"bins\"]]\n",
    "dfbins[\"right\"]\n",
    "\n",
    "dfbins['interval'] = dfbins['left'] + \" to \"  + dfbins['right']\n",
    "\n",
    "dfbins"
   ]
  },
  {
   "cell_type": "code",
   "execution_count": 16,
   "metadata": {
    "ExecuteTime": {
     "end_time": "2020-05-10T02:26:10.336774Z",
     "start_time": "2020-05-10T02:26:10.070064Z"
    }
   },
   "outputs": [
    {
     "data": {
      "image/png": "[encoded data removed]",
      "text/plain": [
       "<Figure size 432x288 with 1 Axes>"
      ]
     },
     "metadata": {},
     "output_type": "display_data"
    }
   ],
   "source": [
    "# Plotting last 12 months of precipitation data for the chosen station with bins\n",
    "dfbins = dfbins.groupby('interval').mean()\n",
    "dfbins.plot(kind='bar',legend=False,edgecolor='black')\n",
    "plt.title(f\"Average Precipation data at station {prcp_at_station}\")\n",
    "plt.ylabel(\"Precipitation\")\n",
    "plt.xlabel(\"Date Interval\")\n",
    "plt.grid(which='minor',axis='x')\n",
    "plt.show()"
   ]
  },
  {
   "cell_type": "code",
   "execution_count": 17,
   "metadata": {
    "ExecuteTime": {
     "end_time": "2020-05-10T02:26:10.348277Z",
     "start_time": "2020-05-10T02:26:10.338463Z"
    }
   },
   "outputs": [
    {
     "data": {
      "text/html": [
       "<div>\n",
       "<style scoped>\n",
       "    .dataframe tbody tr th:only-of-type {\n",
       "        vertical-align: middle;\n",
       "    }\n",
       "\n",
       "    .dataframe tbody tr th {\n",
       "        vertical-align: top;\n",
       "    }\n",
       "\n",
       "    .dataframe thead th {\n",
       "        text-align: right;\n",
       "    }\n",
       "</style>\n",
       "<table border=\"1\" class=\"dataframe\">\n",
       "  <thead>\n",
       "    <tr style=\"text-align: right;\">\n",
       "      <th></th>\n",
       "      <th>avg_precipitation</th>\n",
       "    </tr>\n",
       "  </thead>\n",
       "  <tbody>\n",
       "    <tr>\n",
       "      <th>count</th>\n",
       "      <td>2021.000000</td>\n",
       "    </tr>\n",
       "    <tr>\n",
       "      <th>mean</th>\n",
       "      <td>0.177279</td>\n",
       "    </tr>\n",
       "    <tr>\n",
       "      <th>std</th>\n",
       "      <td>0.461190</td>\n",
       "    </tr>\n",
       "    <tr>\n",
       "      <th>min</th>\n",
       "      <td>0.000000</td>\n",
       "    </tr>\n",
       "    <tr>\n",
       "      <th>25%</th>\n",
       "      <td>0.000000</td>\n",
       "    </tr>\n",
       "    <tr>\n",
       "      <th>50%</th>\n",
       "      <td>0.020000</td>\n",
       "    </tr>\n",
       "    <tr>\n",
       "      <th>75%</th>\n",
       "      <td>0.130000</td>\n",
       "    </tr>\n",
       "    <tr>\n",
       "      <th>max</th>\n",
       "      <td>6.700000</td>\n",
       "    </tr>\n",
       "  </tbody>\n",
       "</table>\n",
       "</div>"
      ],
      "text/plain": [
       "       avg_precipitation\n",
       "count        2021.000000\n",
       "mean            0.177279\n",
       "std             0.461190\n",
       "min             0.000000\n",
       "25%             0.000000\n",
       "50%             0.020000\n",
       "75%             0.130000\n",
       "max             6.700000"
      ]
     },
     "execution_count": 17,
     "metadata": {},
     "output_type": "execute_result"
    }
   ],
   "source": [
    "# Use Pandas to calcualte the summary statistics for the precipitation data from the chosen station\n",
    "last12monthsall_df.describe()"
   ]
  },
  {
   "cell_type": "markdown",
   "metadata": {},
   "source": [
    "# Station Analysis\n"
   ]
  },
  {
   "cell_type": "code",
   "execution_count": 18,
   "metadata": {
    "ExecuteTime": {
     "end_time": "2020-05-10T02:26:10.358370Z",
     "start_time": "2020-05-10T02:26:10.349904Z"
    }
   },
   "outputs": [
    {
     "name": "stdout",
     "output_type": "stream",
     "text": [
      "There are 9 stations.\n"
     ]
    }
   ],
   "source": [
    "# Design a query to show how many stations are available in this dataset\n",
    "stationcode = session.query(measurements.station).group_by(measurements.station).all()\n",
    "print(f'There are {len(stationcode)} stations.')"
   ]
  },
  {
   "cell_type": "code",
   "execution_count": 19,
   "metadata": {
    "ExecuteTime": {
     "end_time": "2020-05-10T02:26:10.370937Z",
     "start_time": "2020-05-10T02:26:10.359961Z"
    },
    "scrolled": true
   },
   "outputs": [
    {
     "data": {
      "text/plain": [
       "[('USC00519281', 2772),\n",
       " ('USC00519397', 2724),\n",
       " ('USC00513117', 2709),\n",
       " ('USC00519523', 2669),\n",
       " ('USC00516128', 2612),\n",
       " ('USC00514830', 2202),\n",
       " ('USC00511918', 1979),\n",
       " ('USC00517948', 1372),\n",
       " ('USC00518838', 511)]"
      ]
     },
     "execution_count": 19,
     "metadata": {},
     "output_type": "execute_result"
    }
   ],
   "source": [
    "# What are the most active stations? (i.e. what stations have the most rows)?\n",
    "# List the stations and the counts in descending order.\n",
    "stationcount = session.query(measurements.station,func.count(measurements.station)).\\\n",
    "    group_by(measurements.station).\\\n",
    "    order_by(func.count(measurements.station).desc()).all()\n",
    "\n",
    "stationcount "
   ]
  },
  {
   "cell_type": "code",
   "execution_count": 20,
   "metadata": {
    "ExecuteTime": {
     "end_time": "2020-05-10T02:26:10.382031Z",
     "start_time": "2020-05-10T02:26:10.372220Z"
    }
   },
   "outputs": [
    {
     "name": "stdout",
     "output_type": "stream",
     "text": [
      "Station USC00519281 has the most observations of 2772\n"
     ]
    }
   ],
   "source": [
    "#station with the most observations\n",
    "stationmost = session.query(measurements.station,func.count(measurements.station)).\\\n",
    "    group_by(measurements.station).\\\n",
    "    order_by(func.count(measurements.station).desc()).first()\n",
    "print(f'Station {stationmost[0]} has the most observations of {stationmost[1]}')"
   ]
  },
  {
   "cell_type": "code",
   "execution_count": 21,
   "metadata": {
    "ExecuteTime": {
     "end_time": "2020-05-10T02:26:10.535775Z",
     "start_time": "2020-05-10T02:26:10.383601Z"
    }
   },
   "outputs": [
    {
     "data": {
      "image/png": "[encoded data removed]",
      "text/plain": [
       "<Figure size 432x288 with 1 Axes>"
      ]
     },
     "metadata": {},
     "output_type": "display_data"
    }
   ],
   "source": [
    "# Choose the station with the highest number of temperature observations.\n",
    "# Query the last 12 months of temperature observation data for this station and plot the results as a histogram\n",
    "query_date = dt.date(year,month,day) - dt.timedelta(days=365)\n",
    "\n",
    "last_12_months_temp_at_staion_most = session.query(measurements.date,measurements.tobs).\\\n",
    "    filter(measurements.date > query_date).\\\n",
    "    filter(measurements.station == stationmost[0]).all()\n",
    "\n",
    "last12df = pd.DataFrame(last_12_months_temp_at_staion_most)\n",
    "\n",
    "last12df.plot.hist(by=last12df.tobs,bins=12,legend=False,edgecolor='black')\n",
    "plt.xlabel(\"Temperature\")\n",
    "plt.title(f\"Histogram of Temperature Observations at Station {stationmost[0]}\")\n",
    "plt.show()\n"
   ]
  },
  {
   "cell_type": "code",
   "execution_count": 22,
   "metadata": {
    "ExecuteTime": {
     "end_time": "2020-05-10T02:26:10.547301Z",
     "start_time": "2020-05-10T02:26:10.537315Z"
    }
   },
   "outputs": [
    {
     "name": "stdout",
     "output_type": "stream",
     "text": [
      "Station USC00519281 lowest recorded temperature was 54.0 Degrees F\n",
      "Station USC00519281 highest recorded temperature was 85.0 Degrees F\n",
      "Station USC00519281 average recorded temperature was 71.66 Degrees F\n"
     ]
    }
   ],
   "source": [
    "# Using the station id from the previous query, calculate the lowest temperature recorded, \n",
    "# highest temperature recorded, and average temperature of the most active station?\n",
    "lowtemp = session.query(func.min(measurements.tobs)).\\\n",
    "    filter(measurements.station==stationmost[0]).scalar()\n",
    "hightemp = session.query(func.max(measurements.tobs)).\\\n",
    "    filter(measurements.station==stationmost[0]).scalar()\n",
    "avgtemp = session.query(func.avg(measurements.tobs)).\\\n",
    "    filter(measurements.station==stationmost[0]).all()\n",
    "\n",
    "print(f\"Station {stationmost[0]} lowest recorded temperature was {lowtemp} Degrees F\")\n",
    "print(f\"Station {stationmost[0]} highest recorded temperature was {hightemp} Degrees F\")\n",
    "print(f\"Station {stationmost[0]} average recorded temperature was {round(avgtemp[0][0],2)} Degrees F\")"
   ]
  },
  {
   "cell_type": "markdown",
   "metadata": {},
   "source": [
    "## Data manipulation for GMAPS plot of stations\n",
    "\n"
   ]
  },
  {
   "cell_type": "code",
   "execution_count": 23,
   "metadata": {
    "ExecuteTime": {
     "end_time": "2020-05-10T02:26:10.563129Z",
     "start_time": "2020-05-10T02:26:10.551696Z"
    }
   },
   "outputs": [
    {
     "data": {
      "text/html": [
       "<div>\n",
       "<style scoped>\n",
       "    .dataframe tbody tr th:only-of-type {\n",
       "        vertical-align: middle;\n",
       "    }\n",
       "\n",
       "    .dataframe tbody tr th {\n",
       "        vertical-align: top;\n",
       "    }\n",
       "\n",
       "    .dataframe thead th {\n",
       "        text-align: right;\n",
       "    }\n",
       "</style>\n",
       "<table border=\"1\" class=\"dataframe\">\n",
       "  <thead>\n",
       "    <tr style=\"text-align: right;\">\n",
       "      <th></th>\n",
       "      <th>station</th>\n",
       "      <th>name</th>\n",
       "      <th>latitude</th>\n",
       "      <th>longitude</th>\n",
       "    </tr>\n",
       "  </thead>\n",
       "  <tbody>\n",
       "    <tr>\n",
       "      <th>0</th>\n",
       "      <td>USC00511918</td>\n",
       "      <td>HONOLULU OBSERVATORY 702.2, HI US</td>\n",
       "      <td>21.31520</td>\n",
       "      <td>-157.99920</td>\n",
       "    </tr>\n",
       "    <tr>\n",
       "      <th>1</th>\n",
       "      <td>USC00513117</td>\n",
       "      <td>KANEOHE 838.1, HI US</td>\n",
       "      <td>21.42340</td>\n",
       "      <td>-157.80150</td>\n",
       "    </tr>\n",
       "    <tr>\n",
       "      <th>2</th>\n",
       "      <td>USC00514830</td>\n",
       "      <td>KUALOA RANCH HEADQUARTERS 886.9, HI US</td>\n",
       "      <td>21.52130</td>\n",
       "      <td>-157.83740</td>\n",
       "    </tr>\n",
       "    <tr>\n",
       "      <th>3</th>\n",
       "      <td>USC00516128</td>\n",
       "      <td>MANOA LYON ARBO 785.2, HI US</td>\n",
       "      <td>21.33310</td>\n",
       "      <td>-157.80250</td>\n",
       "    </tr>\n",
       "    <tr>\n",
       "      <th>4</th>\n",
       "      <td>USC00517948</td>\n",
       "      <td>PEARL CITY, HI US</td>\n",
       "      <td>21.39340</td>\n",
       "      <td>-157.97510</td>\n",
       "    </tr>\n",
       "    <tr>\n",
       "      <th>5</th>\n",
       "      <td>USC00518838</td>\n",
       "      <td>UPPER WAHIAWA 874.3, HI US</td>\n",
       "      <td>21.49920</td>\n",
       "      <td>-158.01110</td>\n",
       "    </tr>\n",
       "    <tr>\n",
       "      <th>6</th>\n",
       "      <td>USC00519281</td>\n",
       "      <td>WAIHEE 837.5, HI US</td>\n",
       "      <td>21.45167</td>\n",
       "      <td>-157.84889</td>\n",
       "    </tr>\n",
       "    <tr>\n",
       "      <th>7</th>\n",
       "      <td>USC00519397</td>\n",
       "      <td>WAIKIKI 717.2, HI US</td>\n",
       "      <td>21.27160</td>\n",
       "      <td>-157.81680</td>\n",
       "    </tr>\n",
       "    <tr>\n",
       "      <th>8</th>\n",
       "      <td>USC00519523</td>\n",
       "      <td>WAIMANALO EXPERIMENTAL FARM, HI US</td>\n",
       "      <td>21.33556</td>\n",
       "      <td>-157.71139</td>\n",
       "    </tr>\n",
       "  </tbody>\n",
       "</table>\n",
       "</div>"
      ],
      "text/plain": [
       "       station                                    name  latitude  longitude\n",
       "0  USC00511918       HONOLULU OBSERVATORY 702.2, HI US  21.31520 -157.99920\n",
       "1  USC00513117                    KANEOHE 838.1, HI US  21.42340 -157.80150\n",
       "2  USC00514830  KUALOA RANCH HEADQUARTERS 886.9, HI US  21.52130 -157.83740\n",
       "3  USC00516128            MANOA LYON ARBO 785.2, HI US  21.33310 -157.80250\n",
       "4  USC00517948                       PEARL CITY, HI US  21.39340 -157.97510\n",
       "5  USC00518838              UPPER WAHIAWA 874.3, HI US  21.49920 -158.01110\n",
       "6  USC00519281                     WAIHEE 837.5, HI US  21.45167 -157.84889\n",
       "7  USC00519397                    WAIKIKI 717.2, HI US  21.27160 -157.81680\n",
       "8  USC00519523      WAIMANALO EXPERIMENTAL FARM, HI US  21.33556 -157.71139"
      ]
     },
     "execution_count": 23,
     "metadata": {},
     "output_type": "execute_result"
    }
   ],
   "source": [
    "station_name_code = session.query(stations.station,stations.name,stations.latitude,stations.longitude).group_by(stations.name).all()\n",
    "station_name_code\n",
    "\n",
    "station_df = pd.DataFrame(station_name_code)\n",
    "station_df"
   ]
  },
  {
   "cell_type": "code",
   "execution_count": 24,
   "metadata": {
    "ExecuteTime": {
     "end_time": "2020-05-10T02:26:10.569714Z",
     "start_time": "2020-05-10T02:26:10.565047Z"
    }
   },
   "outputs": [
    {
     "data": {
      "text/plain": [
       "[[21.3152, -157.9992],\n",
       " [21.4234, -157.8015],\n",
       " [21.5213, -157.8374],\n",
       " [21.3331, -157.8025],\n",
       " [21.3934, -157.9751],\n",
       " [21.4992, -158.0111],\n",
       " [21.45167, -157.84888999999998],\n",
       " [21.2716, -157.8168],\n",
       " [21.33556, -157.71139]]"
      ]
     },
     "execution_count": 24,
     "metadata": {},
     "output_type": "execute_result"
    }
   ],
   "source": [
    "# Creating a list of lists of the coordinates for the stations\n",
    "coordinates = station_df[[\"latitude\", \"longitude\"]].values.tolist()\n",
    "coordinates"
   ]
  },
  {
   "cell_type": "code",
   "execution_count": 25,
   "metadata": {
    "ExecuteTime": {
     "end_time": "2020-05-10T02:26:10.613229Z",
     "start_time": "2020-05-10T02:26:10.571223Z"
    }
   },
   "outputs": [
    {
     "data": {
      "application/vnd.jupyter.widget-view+json": {
       "model_id": "137aed022bb24fa7877088986e088e11",
       "version_major": 2,
       "version_minor": 0
      },
      "text/plain": [
       "Figure(layout=FigureLayout(height='420px'))"
      ]
     },
     "metadata": {},
     "output_type": "display_data"
    }
   ],
   "source": [
    "# Using Gmaps to plot locations of the stations\n",
    "\n",
    "fig = gmaps.figure()\n",
    "\n",
    "\n",
    "info_box_template = \"\"\"\n",
    "<dl>\n",
    "<dt>Station code</dt><dd>{station}</dd>\n",
    "<dt>Station name</dt><dd>{name}</dd>\n",
    "<dt>Latitude</dt><dd>{latitude}</dd>\n",
    "<dt>Longitude</dt><dd>{longitude}</dd>\n",
    "</dl>\n",
    "\"\"\"\n",
    "\n",
    "# Store the DataFrame Row\n",
    "station_info = [info_box_template.format(**row) for index, row in station_df.iterrows()]\n",
    "\n",
    "#Add marker layer\n",
    "markers = gmaps.marker_layer(coordinates,info_box_content=[f'Station Details: {info}' for info in station_info])\n",
    "fig.add_layer(markers)\n",
    "fig\n"
   ]
  }
 ],
 "metadata": {
  "kernel_info": {
   "name": "python3"
  },
  "kernelspec": {
   "display_name": "Python 3.6.10 64-bit ('PythonData2020_1': conda)",
   "language": "python",
   "name": "python361064bitpythondata20201conda4483446da3a149c49ccb50a5c828d3b3"
  },
  "language_info": {
   "codemirror_mode": {
    "name": "ipython",
    "version": 3
   },
   "file_extension": ".py",
   "mimetype": "text/x-python",
   "name": "python",
   "nbconvert_exporter": "python",
   "pygments_lexer": "ipython3",
   "version": "3.6.10"
  },
  "nteract": {
   "version": "0.12.3"
  },
  "varInspector": {
   "cols": {
    "lenName": 16,
    "lenType": 16,
    "lenVar": 40
   },
   "kernels_config": {
    "python": {
     "delete_cmd_postfix": "",
     "delete_cmd_prefix": "del ",
     "library": "var_list.py",
     "varRefreshCmd": "print(var_dic_list())"
    },
    "r": {
     "delete_cmd_postfix": ") ",
     "delete_cmd_prefix": "rm(",
     "library": "var_list.r",
     "varRefreshCmd": "cat(var_dic_list()) "
    }
   },
   "types_to_exclude": [
    "module",
    "function",
    "builtin_function_or_method",
    "instance",
    "_Feature"
   ],
   "window_display": false
  }
 },
 "nbformat": 4,
 "nbformat_minor": 2
}
